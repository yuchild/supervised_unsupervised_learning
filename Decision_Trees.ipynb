{
 "cells": [
  {
   "cell_type": "code",
   "execution_count": 28,
   "metadata": {},
   "outputs": [],
   "source": [
    "from sklearn.tree import DecisionTreeClassifier, export_graphviz\n",
    "from sklearn import tree\n",
    "from sklearn.datasets import load_wine\n",
    "from IPython.display import SVG\n",
    "from graphviz import Source\n",
    "from IPython.display import display\n",
    "from ipywidgets import interactive\n",
    "\n",
    "import warnings\n",
    "warnings.filterwarnings('ignore')"
   ]
  },
  {
   "cell_type": "markdown",
   "metadata": {},
   "source": [
    "From: https://towardsdatascience.com/interactive-visualization-of-decision-trees-with-jupyter-widgets-ca15dd312084"
   ]
  },
  {
   "cell_type": "code",
   "execution_count": 3,
   "metadata": {},
   "outputs": [],
   "source": [
    "data = load_wine()"
   ]
  },
  {
   "cell_type": "code",
   "execution_count": 4,
   "metadata": {},
   "outputs": [],
   "source": [
    "X = data.data\n",
    "y = data.target"
   ]
  },
  {
   "cell_type": "code",
   "execution_count": 22,
   "metadata": {},
   "outputs": [
    {
     "data": {
      "text/plain": [
       "['alcohol',\n",
       " 'malic_acid',\n",
       " 'ash',\n",
       " 'alcalinity_of_ash',\n",
       " 'magnesium',\n",
       " 'total_phenols',\n",
       " 'flavanoids',\n",
       " 'nonflavanoid_phenols',\n",
       " 'proanthocyanins',\n",
       " 'color_intensity',\n",
       " 'hue',\n",
       " 'od280/od315_of_diluted_wines',\n",
       " 'proline']"
      ]
     },
     "execution_count": 22,
     "metadata": {},
     "output_type": "execute_result"
    }
   ],
   "source": [
    "labels = data.feature_names\n",
    "labels"
   ]
  },
  {
   "cell_type": "code",
   "execution_count": 15,
   "metadata": {},
   "outputs": [],
   "source": [
    "# print(data.DESCR)"
   ]
  },
  {
   "cell_type": "code",
   "execution_count": 16,
   "metadata": {},
   "outputs": [
    {
     "data": {
      "text/plain": [
       "DecisionTreeClassifier(class_weight=None, criterion='gini', max_depth=None,\n",
       "                       max_features=None, max_leaf_nodes=None,\n",
       "                       min_impurity_decrease=0.0, min_impurity_split=None,\n",
       "                       min_samples_leaf=1, min_samples_split=2,\n",
       "                       min_weight_fraction_leaf=0.0, presort=False,\n",
       "                       random_state=None, splitter='best')"
      ]
     },
     "execution_count": 16,
     "metadata": {},
     "output_type": "execute_result"
    }
   ],
   "source": [
    "model = DecisionTreeClassifier()\n",
    "model.fit(X, y)"
   ]
  },
  {
   "cell_type": "code",
   "execution_count": 26,
   "metadata": {},
   "outputs": [
    {
     "data": {
      "image/svg+xml": [
       "<svg height=\"401pt\" viewBox=\"0.00 0.00 617.00 401.00\" width=\"617pt\" xmlns=\"http://www.w3.org/2000/svg\" xmlns:xlink=\"http://www.w3.org/1999/xlink\">\n",
       "<g class=\"graph\" id=\"graph0\" transform=\"scale(1 1) rotate(0) translate(4 397)\">\n",
       "<title>Tree</title>\n",
       "<polygon fill=\"#ffffff\" points=\"-4,4 -4,-397 613,-397 613,4 -4,4\" stroke=\"transparent\"/>\n",
       "<!-- 0 -->\n",
       "<g class=\"node\" id=\"node1\">\n",
       "<title>0</title>\n",
       "<polygon fill=\"#ebfcf2\" points=\"361,-393 235,-393 235,-310 361,-310 361,-393\" stroke=\"#000000\"/>\n",
       "<text fill=\"#000000\" font-family=\"Times,serif\" font-size=\"14.00\" text-anchor=\"middle\" x=\"298\" y=\"-377.8\">proline &lt;= 755.0</text>\n",
       "<text fill=\"#000000\" font-family=\"Times,serif\" font-size=\"14.00\" text-anchor=\"middle\" x=\"298\" y=\"-362.8\">gini = 0.658</text>\n",
       "<text fill=\"#000000\" font-family=\"Times,serif\" font-size=\"14.00\" text-anchor=\"middle\" x=\"298\" y=\"-347.8\">samples = 178</text>\n",
       "<text fill=\"#000000\" font-family=\"Times,serif\" font-size=\"14.00\" text-anchor=\"middle\" x=\"298\" y=\"-332.8\">value = [59, 71, 48]</text>\n",
       "<text fill=\"#000000\" font-family=\"Times,serif\" font-size=\"14.00\" text-anchor=\"middle\" x=\"298\" y=\"-317.8\">class = 1</text>\n",
       "</g>\n",
       "<!-- 1 -->\n",
       "<g class=\"node\" id=\"node2\">\n",
       "<title>1</title>\n",
       "<polygon fill=\"#b7f6d1\" points=\"317.5,-274 74.5,-274 74.5,-191 317.5,-191 317.5,-274\" stroke=\"#000000\"/>\n",
       "<text fill=\"#000000\" font-family=\"Times,serif\" font-size=\"14.00\" text-anchor=\"middle\" x=\"196\" y=\"-258.8\">od280/od315_of_diluted_wines &lt;= 2.115</text>\n",
       "<text fill=\"#000000\" font-family=\"Times,serif\" font-size=\"14.00\" text-anchor=\"middle\" x=\"196\" y=\"-243.8\">gini = 0.492</text>\n",
       "<text fill=\"#000000\" font-family=\"Times,serif\" font-size=\"14.00\" text-anchor=\"middle\" x=\"196\" y=\"-228.8\">samples = 111</text>\n",
       "<text fill=\"#000000\" font-family=\"Times,serif\" font-size=\"14.00\" text-anchor=\"middle\" x=\"196\" y=\"-213.8\">value = [2, 67, 42]</text>\n",
       "<text fill=\"#000000\" font-family=\"Times,serif\" font-size=\"14.00\" text-anchor=\"middle\" x=\"196\" y=\"-198.8\">class = 1</text>\n",
       "</g>\n",
       "<!-- 0&#45;&gt;1 -->\n",
       "<g class=\"edge\" id=\"edge1\">\n",
       "<title>0-&gt;1</title>\n",
       "<path d=\"M262.3253,-309.8796C254.6057,-300.8733 246.3695,-291.2644 238.4197,-281.9897\" fill=\"none\" stroke=\"#000000\"/>\n",
       "<polygon fill=\"#000000\" points=\"240.9923,-279.6129 231.8269,-274.2981 235.6775,-284.1684 240.9923,-279.6129\" stroke=\"#000000\"/>\n",
       "<text fill=\"#000000\" font-family=\"Times,serif\" font-size=\"14.00\" text-anchor=\"middle\" x=\"229.9095\" y=\"-295.5244\">True</text>\n",
       "</g>\n",
       "<!-- 16 -->\n",
       "<g class=\"node\" id=\"node9\">\n",
       "<title>16</title>\n",
       "<polygon fill=\"#e99659\" points=\"464,-274 336,-274 336,-191 464,-191 464,-274\" stroke=\"#000000\"/>\n",
       "<text fill=\"#000000\" font-family=\"Times,serif\" font-size=\"14.00\" text-anchor=\"middle\" x=\"400\" y=\"-258.8\">flavanoids &lt;= 2.165</text>\n",
       "<text fill=\"#000000\" font-family=\"Times,serif\" font-size=\"14.00\" text-anchor=\"middle\" x=\"400\" y=\"-243.8\">gini = 0.265</text>\n",
       "<text fill=\"#000000\" font-family=\"Times,serif\" font-size=\"14.00\" text-anchor=\"middle\" x=\"400\" y=\"-228.8\">samples = 67</text>\n",
       "<text fill=\"#000000\" font-family=\"Times,serif\" font-size=\"14.00\" text-anchor=\"middle\" x=\"400\" y=\"-213.8\">value = [57, 4, 6]</text>\n",
       "<text fill=\"#000000\" font-family=\"Times,serif\" font-size=\"14.00\" text-anchor=\"middle\" x=\"400\" y=\"-198.8\">class = 0</text>\n",
       "</g>\n",
       "<!-- 0&#45;&gt;16 -->\n",
       "<g class=\"edge\" id=\"edge8\">\n",
       "<title>0-&gt;16</title>\n",
       "<path d=\"M333.6747,-309.8796C341.3943,-300.8733 349.6305,-291.2644 357.5803,-281.9897\" fill=\"none\" stroke=\"#000000\"/>\n",
       "<polygon fill=\"#000000\" points=\"360.3225,-284.1684 364.1731,-274.2981 355.0077,-279.6129 360.3225,-284.1684\" stroke=\"#000000\"/>\n",
       "<text fill=\"#000000\" font-family=\"Times,serif\" font-size=\"14.00\" text-anchor=\"middle\" x=\"366.0905\" y=\"-295.5244\">False</text>\n",
       "</g>\n",
       "<!-- 2 -->\n",
       "<g class=\"node\" id=\"node3\">\n",
       "<title>2</title>\n",
       "<polygon fill=\"#9457e9\" points=\"142.5,-155 29.5,-155 29.5,-72 142.5,-72 142.5,-155\" stroke=\"#000000\"/>\n",
       "<text fill=\"#000000\" font-family=\"Times,serif\" font-size=\"14.00\" text-anchor=\"middle\" x=\"86\" y=\"-139.8\">hue &lt;= 0.935</text>\n",
       "<text fill=\"#000000\" font-family=\"Times,serif\" font-size=\"14.00\" text-anchor=\"middle\" x=\"86\" y=\"-124.8\">gini = 0.227</text>\n",
       "<text fill=\"#000000\" font-family=\"Times,serif\" font-size=\"14.00\" text-anchor=\"middle\" x=\"86\" y=\"-109.8\">samples = 46</text>\n",
       "<text fill=\"#000000\" font-family=\"Times,serif\" font-size=\"14.00\" text-anchor=\"middle\" x=\"86\" y=\"-94.8\">value = [0, 6, 40]</text>\n",
       "<text fill=\"#000000\" font-family=\"Times,serif\" font-size=\"14.00\" text-anchor=\"middle\" x=\"86\" y=\"-79.8\">class = 2</text>\n",
       "</g>\n",
       "<!-- 1&#45;&gt;2 -->\n",
       "<g class=\"edge\" id=\"edge2\">\n",
       "<title>1-&gt;2</title>\n",
       "<path d=\"M157.5273,-190.8796C149.1189,-181.7832 140.1424,-172.0722 131.4897,-162.7116\" fill=\"none\" stroke=\"#000000\"/>\n",
       "<polygon fill=\"#000000\" points=\"133.995,-160.2656 124.6369,-155.2981 128.8547,-165.0172 133.995,-160.2656\" stroke=\"#000000\"/>\n",
       "</g>\n",
       "<!-- 9 -->\n",
       "<g class=\"node\" id=\"node6\">\n",
       "<title>9</title>\n",
       "<polygon fill=\"#46e789\" points=\"289,-155 161,-155 161,-72 289,-72 289,-155\" stroke=\"#000000\"/>\n",
       "<text fill=\"#000000\" font-family=\"Times,serif\" font-size=\"14.00\" text-anchor=\"middle\" x=\"225\" y=\"-139.8\">flavanoids &lt;= 0.795</text>\n",
       "<text fill=\"#000000\" font-family=\"Times,serif\" font-size=\"14.00\" text-anchor=\"middle\" x=\"225\" y=\"-124.8\">gini = 0.117</text>\n",
       "<text fill=\"#000000\" font-family=\"Times,serif\" font-size=\"14.00\" text-anchor=\"middle\" x=\"225\" y=\"-109.8\">samples = 65</text>\n",
       "<text fill=\"#000000\" font-family=\"Times,serif\" font-size=\"14.00\" text-anchor=\"middle\" x=\"225\" y=\"-94.8\">value = [2, 61, 2]</text>\n",
       "<text fill=\"#000000\" font-family=\"Times,serif\" font-size=\"14.00\" text-anchor=\"middle\" x=\"225\" y=\"-79.8\">class = 1</text>\n",
       "</g>\n",
       "<!-- 1&#45;&gt;9 -->\n",
       "<g class=\"edge\" id=\"edge5\">\n",
       "<title>1-&gt;9</title>\n",
       "<path d=\"M206.1428,-190.8796C208.162,-182.5938 210.3055,-173.798 212.3956,-165.2216\" fill=\"none\" stroke=\"#000000\"/>\n",
       "<polygon fill=\"#000000\" points=\"215.8466,-165.8425 214.8139,-155.2981 209.0457,-164.185 215.8466,-165.8425\" stroke=\"#000000\"/>\n",
       "</g>\n",
       "<!-- 3 -->\n",
       "<g class=\"node\" id=\"node4\">\n",
       "<title>3</title>\n",
       "<polygon fill=\"#c0c0c0\" points=\"54,-36 0,-36 0,0 54,0 54,-36\" stroke=\"#000000\"/>\n",
       "<text fill=\"#000000\" font-family=\"Times,serif\" font-size=\"14.00\" text-anchor=\"middle\" x=\"27\" y=\"-14.3\">(...)</text>\n",
       "</g>\n",
       "<!-- 2&#45;&gt;3 -->\n",
       "<g class=\"edge\" id=\"edge3\">\n",
       "<title>2-&gt;3</title>\n",
       "<path d=\"M60.2934,-71.8901C54.6378,-62.7357 48.7931,-53.2752 43.6094,-44.8847\" fill=\"none\" stroke=\"#000000\"/>\n",
       "<polygon fill=\"#000000\" points=\"46.5177,-42.9329 38.2842,-36.2651 40.5625,-46.6121 46.5177,-42.9329\" stroke=\"#000000\"/>\n",
       "</g>\n",
       "<!-- 6 -->\n",
       "<g class=\"node\" id=\"node5\">\n",
       "<title>6</title>\n",
       "<polygon fill=\"#c0c0c0\" points=\"126,-36 72,-36 72,0 126,0 126,-36\" stroke=\"#000000\"/>\n",
       "<text fill=\"#000000\" font-family=\"Times,serif\" font-size=\"14.00\" text-anchor=\"middle\" x=\"99\" y=\"-14.3\">(...)</text>\n",
       "</g>\n",
       "<!-- 2&#45;&gt;6 -->\n",
       "<g class=\"edge\" id=\"edge4\">\n",
       "<title>2-&gt;6</title>\n",
       "<path d=\"M91.6642,-71.8901C92.844,-63.2227 94.0613,-54.2808 95.1568,-46.2325\" fill=\"none\" stroke=\"#000000\"/>\n",
       "<polygon fill=\"#000000\" points=\"98.6328,-46.6458 96.5137,-36.2651 91.6967,-45.7016 98.6328,-46.6458\" stroke=\"#000000\"/>\n",
       "</g>\n",
       "<!-- 10 -->\n",
       "<g class=\"node\" id=\"node7\">\n",
       "<title>10</title>\n",
       "<polygon fill=\"#c0c0c0\" points=\"227,-36 173,-36 173,0 227,0 227,-36\" stroke=\"#000000\"/>\n",
       "<text fill=\"#000000\" font-family=\"Times,serif\" font-size=\"14.00\" text-anchor=\"middle\" x=\"200\" y=\"-14.3\">(...)</text>\n",
       "</g>\n",
       "<!-- 9&#45;&gt;10 -->\n",
       "<g class=\"edge\" id=\"edge6\">\n",
       "<title>9-&gt;10</title>\n",
       "<path d=\"M214.1074,-71.8901C211.8129,-63.1253 209.445,-54.0798 207.3198,-45.9615\" fill=\"none\" stroke=\"#000000\"/>\n",
       "<polygon fill=\"#000000\" points=\"210.6999,-45.0527 204.7814,-36.2651 203.9281,-46.8255 210.6999,-45.0527\" stroke=\"#000000\"/>\n",
       "</g>\n",
       "<!-- 11 -->\n",
       "<g class=\"node\" id=\"node8\">\n",
       "<title>11</title>\n",
       "<polygon fill=\"#c0c0c0\" points=\"299,-36 245,-36 245,0 299,0 299,-36\" stroke=\"#000000\"/>\n",
       "<text fill=\"#000000\" font-family=\"Times,serif\" font-size=\"14.00\" text-anchor=\"middle\" x=\"272\" y=\"-14.3\">(...)</text>\n",
       "</g>\n",
       "<!-- 9&#45;&gt;11 -->\n",
       "<g class=\"edge\" id=\"edge7\">\n",
       "<title>9-&gt;11</title>\n",
       "<path d=\"M245.4782,-71.8901C249.8876,-62.9305 254.4414,-53.6777 258.5045,-45.4217\" fill=\"none\" stroke=\"#000000\"/>\n",
       "<polygon fill=\"#000000\" points=\"261.7355,-46.7829 263.0109,-36.2651 255.4549,-43.6919 261.7355,-46.7829\" stroke=\"#000000\"/>\n",
       "</g>\n",
       "<!-- 17 -->\n",
       "<g class=\"node\" id=\"node10\">\n",
       "<title>17</title>\n",
       "<polygon fill=\"#ab7bee\" points=\"424,-155 318,-155 318,-72 424,-72 424,-155\" stroke=\"#000000\"/>\n",
       "<text fill=\"#000000\" font-family=\"Times,serif\" font-size=\"14.00\" text-anchor=\"middle\" x=\"371\" y=\"-139.8\">hue &lt;= 0.803</text>\n",
       "<text fill=\"#000000\" font-family=\"Times,serif\" font-size=\"14.00\" text-anchor=\"middle\" x=\"371\" y=\"-124.8\">gini = 0.375</text>\n",
       "<text fill=\"#000000\" font-family=\"Times,serif\" font-size=\"14.00\" text-anchor=\"middle\" x=\"371\" y=\"-109.8\">samples = 8</text>\n",
       "<text fill=\"#000000\" font-family=\"Times,serif\" font-size=\"14.00\" text-anchor=\"middle\" x=\"371\" y=\"-94.8\">value = [0, 2, 6]</text>\n",
       "<text fill=\"#000000\" font-family=\"Times,serif\" font-size=\"14.00\" text-anchor=\"middle\" x=\"371\" y=\"-79.8\">class = 2</text>\n",
       "</g>\n",
       "<!-- 16&#45;&gt;17 -->\n",
       "<g class=\"edge\" id=\"edge9\">\n",
       "<title>16-&gt;17</title>\n",
       "<path d=\"M389.8572,-190.8796C387.838,-182.5938 385.6945,-173.798 383.6044,-165.2216\" fill=\"none\" stroke=\"#000000\"/>\n",
       "<polygon fill=\"#000000\" points=\"386.9543,-164.185 381.1861,-155.2981 380.1534,-165.8425 386.9543,-164.185\" stroke=\"#000000\"/>\n",
       "</g>\n",
       "<!-- 20 -->\n",
       "<g class=\"node\" id=\"node13\">\n",
       "<title>20</title>\n",
       "<polygon fill=\"#e68540\" points=\"594,-155 442,-155 442,-72 594,-72 594,-155\" stroke=\"#000000\"/>\n",
       "<text fill=\"#000000\" font-family=\"Times,serif\" font-size=\"14.00\" text-anchor=\"middle\" x=\"518\" y=\"-139.8\">color_intensity &lt;= 3.435</text>\n",
       "<text fill=\"#000000\" font-family=\"Times,serif\" font-size=\"14.00\" text-anchor=\"middle\" x=\"518\" y=\"-124.8\">gini = 0.065</text>\n",
       "<text fill=\"#000000\" font-family=\"Times,serif\" font-size=\"14.00\" text-anchor=\"middle\" x=\"518\" y=\"-109.8\">samples = 59</text>\n",
       "<text fill=\"#000000\" font-family=\"Times,serif\" font-size=\"14.00\" text-anchor=\"middle\" x=\"518\" y=\"-94.8\">value = [57, 2, 0]</text>\n",
       "<text fill=\"#000000\" font-family=\"Times,serif\" font-size=\"14.00\" text-anchor=\"middle\" x=\"518\" y=\"-79.8\">class = 0</text>\n",
       "</g>\n",
       "<!-- 16&#45;&gt;20 -->\n",
       "<g class=\"edge\" id=\"edge12\">\n",
       "<title>16-&gt;20</title>\n",
       "<path d=\"M441.2707,-190.8796C450.3799,-181.6931 460.1108,-171.8798 469.4776,-162.4336\" fill=\"none\" stroke=\"#000000\"/>\n",
       "<polygon fill=\"#000000\" points=\"471.9973,-164.8634 476.5532,-155.2981 467.0267,-159.9345 471.9973,-164.8634\" stroke=\"#000000\"/>\n",
       "</g>\n",
       "<!-- 18 -->\n",
       "<g class=\"node\" id=\"node11\">\n",
       "<title>18</title>\n",
       "<polygon fill=\"#c0c0c0\" points=\"385,-36 331,-36 331,0 385,0 385,-36\" stroke=\"#000000\"/>\n",
       "<text fill=\"#000000\" font-family=\"Times,serif\" font-size=\"14.00\" text-anchor=\"middle\" x=\"358\" y=\"-14.3\">(...)</text>\n",
       "</g>\n",
       "<!-- 17&#45;&gt;18 -->\n",
       "<g class=\"edge\" id=\"edge10\">\n",
       "<title>17-&gt;18</title>\n",
       "<path d=\"M365.3358,-71.8901C364.156,-63.2227 362.9387,-54.2808 361.8432,-46.2325\" fill=\"none\" stroke=\"#000000\"/>\n",
       "<polygon fill=\"#000000\" points=\"365.3033,-45.7016 360.4863,-36.2651 358.3672,-46.6458 365.3033,-45.7016\" stroke=\"#000000\"/>\n",
       "</g>\n",
       "<!-- 19 -->\n",
       "<g class=\"node\" id=\"node12\">\n",
       "<title>19</title>\n",
       "<polygon fill=\"#c0c0c0\" points=\"457,-36 403,-36 403,0 457,0 457,-36\" stroke=\"#000000\"/>\n",
       "<text fill=\"#000000\" font-family=\"Times,serif\" font-size=\"14.00\" text-anchor=\"middle\" x=\"430\" y=\"-14.3\">(...)</text>\n",
       "</g>\n",
       "<!-- 17&#45;&gt;19 -->\n",
       "<g class=\"edge\" id=\"edge11\">\n",
       "<title>17-&gt;19</title>\n",
       "<path d=\"M396.7066,-71.8901C402.3622,-62.7357 408.2069,-53.2752 413.3906,-44.8847\" fill=\"none\" stroke=\"#000000\"/>\n",
       "<polygon fill=\"#000000\" points=\"416.4375,-46.6121 418.7158,-36.2651 410.4823,-42.9329 416.4375,-46.6121\" stroke=\"#000000\"/>\n",
       "</g>\n",
       "<!-- 21 -->\n",
       "<g class=\"node\" id=\"node14\">\n",
       "<title>21</title>\n",
       "<polygon fill=\"#c0c0c0\" points=\"537,-36 483,-36 483,0 537,0 537,-36\" stroke=\"#000000\"/>\n",
       "<text fill=\"#000000\" font-family=\"Times,serif\" font-size=\"14.00\" text-anchor=\"middle\" x=\"510\" y=\"-14.3\">(...)</text>\n",
       "</g>\n",
       "<!-- 20&#45;&gt;21 -->\n",
       "<g class=\"edge\" id=\"edge13\">\n",
       "<title>20-&gt;21</title>\n",
       "<path d=\"M514.5144,-71.8901C513.7883,-63.2227 513.0392,-54.2808 512.365,-46.2325\" fill=\"none\" stroke=\"#000000\"/>\n",
       "<polygon fill=\"#000000\" points=\"515.8527,-45.938 511.5301,-36.2651 508.8771,-46.5224 515.8527,-45.938\" stroke=\"#000000\"/>\n",
       "</g>\n",
       "<!-- 22 -->\n",
       "<g class=\"node\" id=\"node15\">\n",
       "<title>22</title>\n",
       "<polygon fill=\"#c0c0c0\" points=\"609,-36 555,-36 555,0 609,0 609,-36\" stroke=\"#000000\"/>\n",
       "<text fill=\"#000000\" font-family=\"Times,serif\" font-size=\"14.00\" text-anchor=\"middle\" x=\"582\" y=\"-14.3\">(...)</text>\n",
       "</g>\n",
       "<!-- 20&#45;&gt;22 -->\n",
       "<g class=\"edge\" id=\"edge14\">\n",
       "<title>20-&gt;22</title>\n",
       "<path d=\"M545.8852,-71.8901C552.0853,-62.6384 558.495,-53.0739 564.1623,-44.6173\" fill=\"none\" stroke=\"#000000\"/>\n",
       "<polygon fill=\"#000000\" points=\"567.0999,-46.5207 569.7595,-36.2651 561.2849,-42.6237 567.0999,-46.5207\" stroke=\"#000000\"/>\n",
       "</g>\n",
       "</g>\n",
       "</svg>"
      ],
      "text/plain": [
       "<IPython.core.display.SVG object>"
      ]
     },
     "metadata": {},
     "output_type": "display_data"
    }
   ],
   "source": [
    "graph = Source(tree.export_graphviz(model\n",
    "                                    , out_file=None\n",
    "                                    , feature_names = labels\n",
    "                                    , class_names=['0', '1', '2']\n",
    "                                    , filled=True\n",
    "                                    , max_depth=2))\n",
    "display(SVG(graph.pipe(format='svg')))"
   ]
  },
  {
   "cell_type": "code",
   "execution_count": 42,
   "metadata": {},
   "outputs": [],
   "source": [
    "def plot_tree(crit, split, depth, min_split, min_leaf=0.2):\n",
    "    model = DecisionTreeClassifier(random_state=0\n",
    "                                  , criterion = crit\n",
    "                                  , splitter = split\n",
    "                                  , max_depth = depth\n",
    "                                  , min_samples_split = min_split\n",
    "                                  , min_samples_leaf = min_leaf)\n",
    "    model.fit(X, y)\n",
    "    \n",
    "    graph = Source(tree.export_graphviz(model\n",
    "                                        , out_file = None\n",
    "                                        , feature_names = labels\n",
    "                                        , class_names = ['0', '1', '2']\n",
    "                                        , filled = True))\n",
    "    return display(SVG(graph.pipe(format='svg')))"
   ]
  },
  {
   "cell_type": "code",
   "execution_count": 43,
   "metadata": {},
   "outputs": [],
   "source": [
    "inter = interactive(plot_tree\n",
    "                   , crit = ['gini', 'entropy']\n",
    "                   , split = ['best', 'random']\n",
    "                   , depth = [1, 2, 3, 4]\n",
    "                   , min_split=(0.1, 1)\n",
    "                   , min_leaf = (0.1, 0.5))"
   ]
  },
  {
   "cell_type": "code",
   "execution_count": 44,
   "metadata": {},
   "outputs": [
    {
     "data": {
      "application/vnd.jupyter.widget-view+json": {
       "model_id": "ba1c097346c94af59a3c9f86f72a9800",
       "version_major": 2,
       "version_minor": 0
      },
      "text/plain": [
       "interactive(children=(Dropdown(description='crit', options=('gini', 'entropy'), value='gini'), Dropdown(descri…"
      ]
     },
     "metadata": {},
     "output_type": "display_data"
    }
   ],
   "source": [
    "display(inter)"
   ]
  },
  {
   "cell_type": "code",
   "execution_count": 46,
   "metadata": {},
   "outputs": [],
   "source": [
    "from sklearn.ensemble import RandomForestClassifier\n",
    "from sklearn.datasets import load_wine"
   ]
  },
  {
   "cell_type": "code",
   "execution_count": 47,
   "metadata": {},
   "outputs": [],
   "source": [
    "data = load_wine()"
   ]
  },
  {
   "cell_type": "code",
   "execution_count": 48,
   "metadata": {},
   "outputs": [],
   "source": [
    "X = data.data\n",
    "y = data.target"
   ]
  },
  {
   "cell_type": "code",
   "execution_count": 49,
   "metadata": {},
   "outputs": [],
   "source": [
    "labels = data.feature_names"
   ]
  },
  {
   "cell_type": "code",
   "execution_count": 52,
   "metadata": {},
   "outputs": [],
   "source": [
    "model = RandomForestClassifier().fit(X, y)"
   ]
  },
  {
   "cell_type": "code",
   "execution_count": 56,
   "metadata": {},
   "outputs": [],
   "source": [
    "# model.estimators_"
   ]
  },
  {
   "cell_type": "code",
   "execution_count": 55,
   "metadata": {
    "scrolled": true
   },
   "outputs": [
    {
     "name": "stdout",
     "output_type": "stream",
     "text": [
      "Number of trees: 10\n"
     ]
    }
   ],
   "source": [
    "print(f'Number of trees: {len(model.estimators_)}')"
   ]
  },
  {
   "cell_type": "code",
   "execution_count": 64,
   "metadata": {},
   "outputs": [
    {
     "data": {
      "text/plain": [
       "25"
      ]
     },
     "execution_count": 64,
     "metadata": {},
     "output_type": "execute_result"
    }
   ],
   "source": [
    "model.estimators_[0].tree_.node_count"
   ]
  },
  {
   "cell_type": "code",
   "execution_count": 65,
   "metadata": {},
   "outputs": [],
   "source": [
    "trees = model.estimators_"
   ]
  },
  {
   "cell_type": "code",
   "execution_count": 67,
   "metadata": {},
   "outputs": [
    {
     "name": "stdout",
     "output_type": "stream",
     "text": [
      "Number of nodes of tree 1: 25\n",
      "Number of nodes of tree 2: 15\n",
      "Number of nodes of tree 3: 19\n",
      "Number of nodes of tree 4: 17\n",
      "Number of nodes of tree 5: 25\n",
      "Number of nodes of tree 6: 27\n",
      "Number of nodes of tree 7: 23\n",
      "Number of nodes of tree 8: 21\n",
      "Number of nodes of tree 9: 17\n",
      "Number of nodes of tree 10: 25\n"
     ]
    }
   ],
   "source": [
    "i = 1\n",
    "for tree in trees:\n",
    "    print(f'Number of nodes of tree {i}: {tree.tree_.node_count}')\n",
    "    i += 1"
   ]
  },
  {
   "cell_type": "code",
   "execution_count": 71,
   "metadata": {},
   "outputs": [
    {
     "data": {
      "text/plain": [
       "DecisionTreeClassifier(class_weight=None, criterion='gini', max_depth=None,\n",
       "                       max_features='auto', max_leaf_nodes=None,\n",
       "                       min_impurity_decrease=0.0, min_impurity_split=None,\n",
       "                       min_samples_leaf=1, min_samples_split=2,\n",
       "                       min_weight_fraction_leaf=0.0, presort=False,\n",
       "                       random_state=1517000657, splitter='best')"
      ]
     },
     "execution_count": 71,
     "metadata": {},
     "output_type": "execute_result"
    }
   ],
   "source": [
    "trees[0]"
   ]
  },
  {
   "cell_type": "code",
   "execution_count": 69,
   "metadata": {},
   "outputs": [],
   "source": [
    "from sklearn.tree import export_graphviz\n",
    "from subprocess import check_call"
   ]
  },
  {
   "cell_type": "code",
   "execution_count": 72,
   "metadata": {},
   "outputs": [],
   "source": [
    "ctn = 1\n",
    "for tree in trees:\n",
    "    export_graphviz(tree\n",
    "                   , out_file = str(ctn)+'_tree.dot'\n",
    "                   , feature_names = labels\n",
    "                   , rounded = True\n",
    "                   , precision = 4\n",
    "                   , node_ids = True\n",
    "                   , proportion = True\n",
    "                   , filled = True)\n",
    "    check_call(['dot','-Tpng',str(ctn)+'_tree.dot','-o',str(ctn)+'_tree.png'])\n",
    "    ctn +=1"
   ]
  },
  {
   "cell_type": "code",
   "execution_count": 73,
   "metadata": {},
   "outputs": [],
   "source": [
    "from sklearn.ensemble import AdaBoostClassifier"
   ]
  },
  {
   "cell_type": "code",
   "execution_count": 74,
   "metadata": {},
   "outputs": [],
   "source": [
    "model = AdaBoostClassifier().fit(X, y)"
   ]
  },
  {
   "cell_type": "code",
   "execution_count": 75,
   "metadata": {},
   "outputs": [],
   "source": [
    "trees = model.estimators_"
   ]
  },
  {
   "cell_type": "code",
   "execution_count": 76,
   "metadata": {},
   "outputs": [
    {
     "name": "stdout",
     "output_type": "stream",
     "text": [
      "Number of trees: 50\n"
     ]
    }
   ],
   "source": [
    "print(f'Number of trees: {len(trees)}')"
   ]
  },
  {
   "cell_type": "code",
   "execution_count": 78,
   "metadata": {},
   "outputs": [
    {
     "data": {
      "text/plain": [
       "3"
      ]
     },
     "execution_count": 78,
     "metadata": {},
     "output_type": "execute_result"
    }
   ],
   "source": [
    "model.n_classes_"
   ]
  },
  {
   "cell_type": "code",
   "execution_count": 79,
   "metadata": {},
   "outputs": [
    {
     "data": {
      "text/plain": [
       "array([0.30337079, 0.36703006, 0.33822049, 0.33333331, 0.33333334,\n",
       "       0.33333336, 0.33333333, 0.33334788, 0.33333333, 0.33334865,\n",
       "       0.33333333, 0.33333984, 0.33333629, 0.33333561, 0.33333333,\n",
       "       0.33334933, 0.33333333, 0.33337324, 0.33333333, 0.33339265,\n",
       "       0.33333333, 0.33340468, 0.33333333, 0.33341029, 0.33333333,\n",
       "       0.33341342, 0.33333333, 0.33341437, 0.33333333, 0.33341527,\n",
       "       0.33333333, 0.3334152 , 0.33333333, 0.33341564, 0.33333333,\n",
       "       0.33341537, 0.33333333, 0.33341572, 0.33333333, 0.3334154 ,\n",
       "       0.33333333, 0.33341573, 0.33333333, 0.33341541, 0.33333333,\n",
       "       0.33341573, 0.33333333, 0.33341542, 0.33333333, 0.33341573])"
      ]
     },
     "execution_count": 79,
     "metadata": {},
     "output_type": "execute_result"
    }
   ],
   "source": [
    "model.estimator_errors_"
   ]
  },
  {
   "cell_type": "code",
   "execution_count": 81,
   "metadata": {},
   "outputs": [
    {
     "data": {
      "text/plain": [
       "array([0.  , 0.  , 0.  , 0.  , 0.  , 0.02, 0.48, 0.  , 0.  , 0.02, 0.24,\n",
       "       0.22, 0.02])"
      ]
     },
     "execution_count": 81,
     "metadata": {},
     "output_type": "execute_result"
    }
   ],
   "source": [
    "model.feature_importances_"
   ]
  },
  {
   "cell_type": "code",
   "execution_count": 82,
   "metadata": {},
   "outputs": [
    {
     "data": {
      "text/plain": [
       "['alcohol',\n",
       " 'malic_acid',\n",
       " 'ash',\n",
       " 'alcalinity_of_ash',\n",
       " 'magnesium',\n",
       " 'total_phenols',\n",
       " 'flavanoids',\n",
       " 'nonflavanoid_phenols',\n",
       " 'proanthocyanins',\n",
       " 'color_intensity',\n",
       " 'hue',\n",
       " 'od280/od315_of_diluted_wines',\n",
       " 'proline']"
      ]
     },
     "execution_count": 82,
     "metadata": {},
     "output_type": "execute_result"
    }
   ],
   "source": [
    "labels"
   ]
  },
  {
   "cell_type": "code",
   "execution_count": 106,
   "metadata": {},
   "outputs": [],
   "source": [
    "import numpy as np\n",
    "import pandas as pd"
   ]
  },
  {
   "cell_type": "code",
   "execution_count": 107,
   "metadata": {},
   "outputs": [],
   "source": [
    "a = np.array([[1, 2], [3, 4]])"
   ]
  },
  {
   "cell_type": "code",
   "execution_count": 108,
   "metadata": {},
   "outputs": [],
   "source": [
    "a = []\n",
    "for i, x in enumerate(zip(model.feature_importances_, labels)):\n",
    "    a.append(list(x))\n",
    "    "
   ]
  },
  {
   "cell_type": "code",
   "execution_count": 109,
   "metadata": {},
   "outputs": [
    {
     "data": {
      "text/plain": [
       "[[0.0, 'alcohol'],\n",
       " [0.0, 'malic_acid'],\n",
       " [0.0, 'ash'],\n",
       " [0.0, 'alcalinity_of_ash'],\n",
       " [0.0, 'magnesium'],\n",
       " [0.02, 'total_phenols'],\n",
       " [0.48, 'flavanoids'],\n",
       " [0.0, 'nonflavanoid_phenols'],\n",
       " [0.0, 'proanthocyanins'],\n",
       " [0.02, 'color_intensity'],\n",
       " [0.24, 'hue'],\n",
       " [0.22, 'od280/od315_of_diluted_wines'],\n",
       " [0.02, 'proline']]"
      ]
     },
     "execution_count": 109,
     "metadata": {},
     "output_type": "execute_result"
    }
   ],
   "source": [
    "a"
   ]
  },
  {
   "cell_type": "code",
   "execution_count": 110,
   "metadata": {},
   "outputs": [],
   "source": [
    "a_np = np.array(a)"
   ]
  },
  {
   "cell_type": "code",
   "execution_count": 111,
   "metadata": {},
   "outputs": [],
   "source": [
    "a_np.sort()"
   ]
  },
  {
   "cell_type": "code",
   "execution_count": 112,
   "metadata": {},
   "outputs": [
    {
     "data": {
      "text/plain": [
       "array([['0.0', 'alcohol'],\n",
       "       ['0.0', 'malic_acid'],\n",
       "       ['0.0', 'ash'],\n",
       "       ['0.0', 'alcalinity_of_ash'],\n",
       "       ['0.0', 'magnesium'],\n",
       "       ['0.02', 'total_phenols'],\n",
       "       ['0.48', 'flavanoids'],\n",
       "       ['0.0', 'nonflavanoid_phenols'],\n",
       "       ['0.0', 'proanthocyanins'],\n",
       "       ['0.02', 'color_intensity'],\n",
       "       ['0.24', 'hue'],\n",
       "       ['0.22', 'od280/od315_of_diluted_wines'],\n",
       "       ['0.02', 'proline']], dtype='<U32')"
      ]
     },
     "execution_count": 112,
     "metadata": {},
     "output_type": "execute_result"
    }
   ],
   "source": [
    "a_np"
   ]
  },
  {
   "cell_type": "code",
   "execution_count": 114,
   "metadata": {},
   "outputs": [],
   "source": [
    "a_df = pd.DataFrame(a, columns=['importance','feature'])"
   ]
  },
  {
   "cell_type": "code",
   "execution_count": 115,
   "metadata": {},
   "outputs": [
    {
     "data": {
      "text/html": [
       "<div>\n",
       "<style scoped>\n",
       "    .dataframe tbody tr th:only-of-type {\n",
       "        vertical-align: middle;\n",
       "    }\n",
       "\n",
       "    .dataframe tbody tr th {\n",
       "        vertical-align: top;\n",
       "    }\n",
       "\n",
       "    .dataframe thead th {\n",
       "        text-align: right;\n",
       "    }\n",
       "</style>\n",
       "<table border=\"1\" class=\"dataframe\">\n",
       "  <thead>\n",
       "    <tr style=\"text-align: right;\">\n",
       "      <th></th>\n",
       "      <th>importance</th>\n",
       "      <th>feature</th>\n",
       "    </tr>\n",
       "  </thead>\n",
       "  <tbody>\n",
       "    <tr>\n",
       "      <td>0</td>\n",
       "      <td>0.00</td>\n",
       "      <td>alcohol</td>\n",
       "    </tr>\n",
       "    <tr>\n",
       "      <td>1</td>\n",
       "      <td>0.00</td>\n",
       "      <td>malic_acid</td>\n",
       "    </tr>\n",
       "    <tr>\n",
       "      <td>2</td>\n",
       "      <td>0.00</td>\n",
       "      <td>ash</td>\n",
       "    </tr>\n",
       "    <tr>\n",
       "      <td>3</td>\n",
       "      <td>0.00</td>\n",
       "      <td>alcalinity_of_ash</td>\n",
       "    </tr>\n",
       "    <tr>\n",
       "      <td>4</td>\n",
       "      <td>0.00</td>\n",
       "      <td>magnesium</td>\n",
       "    </tr>\n",
       "    <tr>\n",
       "      <td>5</td>\n",
       "      <td>0.02</td>\n",
       "      <td>total_phenols</td>\n",
       "    </tr>\n",
       "    <tr>\n",
       "      <td>6</td>\n",
       "      <td>0.48</td>\n",
       "      <td>flavanoids</td>\n",
       "    </tr>\n",
       "    <tr>\n",
       "      <td>7</td>\n",
       "      <td>0.00</td>\n",
       "      <td>nonflavanoid_phenols</td>\n",
       "    </tr>\n",
       "    <tr>\n",
       "      <td>8</td>\n",
       "      <td>0.00</td>\n",
       "      <td>proanthocyanins</td>\n",
       "    </tr>\n",
       "    <tr>\n",
       "      <td>9</td>\n",
       "      <td>0.02</td>\n",
       "      <td>color_intensity</td>\n",
       "    </tr>\n",
       "    <tr>\n",
       "      <td>10</td>\n",
       "      <td>0.24</td>\n",
       "      <td>hue</td>\n",
       "    </tr>\n",
       "    <tr>\n",
       "      <td>11</td>\n",
       "      <td>0.22</td>\n",
       "      <td>od280/od315_of_diluted_wines</td>\n",
       "    </tr>\n",
       "    <tr>\n",
       "      <td>12</td>\n",
       "      <td>0.02</td>\n",
       "      <td>proline</td>\n",
       "    </tr>\n",
       "  </tbody>\n",
       "</table>\n",
       "</div>"
      ],
      "text/plain": [
       "    importance                       feature\n",
       "0         0.00                       alcohol\n",
       "1         0.00                    malic_acid\n",
       "2         0.00                           ash\n",
       "3         0.00             alcalinity_of_ash\n",
       "4         0.00                     magnesium\n",
       "5         0.02                 total_phenols\n",
       "6         0.48                    flavanoids\n",
       "7         0.00          nonflavanoid_phenols\n",
       "8         0.00               proanthocyanins\n",
       "9         0.02               color_intensity\n",
       "10        0.24                           hue\n",
       "11        0.22  od280/od315_of_diluted_wines\n",
       "12        0.02                       proline"
      ]
     },
     "execution_count": 115,
     "metadata": {},
     "output_type": "execute_result"
    }
   ],
   "source": [
    "a_df"
   ]
  },
  {
   "cell_type": "code",
   "execution_count": 131,
   "metadata": {},
   "outputs": [
    {
     "data": {
      "text/html": [
       "<div>\n",
       "<style scoped>\n",
       "    .dataframe tbody tr th:only-of-type {\n",
       "        vertical-align: middle;\n",
       "    }\n",
       "\n",
       "    .dataframe tbody tr th {\n",
       "        vertical-align: top;\n",
       "    }\n",
       "\n",
       "    .dataframe thead th {\n",
       "        text-align: right;\n",
       "    }\n",
       "</style>\n",
       "<table border=\"1\" class=\"dataframe\">\n",
       "  <thead>\n",
       "    <tr style=\"text-align: right;\">\n",
       "      <th></th>\n",
       "      <th>importance</th>\n",
       "      <th>feature</th>\n",
       "    </tr>\n",
       "  </thead>\n",
       "  <tbody>\n",
       "    <tr>\n",
       "      <td>6</td>\n",
       "      <td>0.48</td>\n",
       "      <td>flavanoids</td>\n",
       "    </tr>\n",
       "    <tr>\n",
       "      <td>10</td>\n",
       "      <td>0.24</td>\n",
       "      <td>hue</td>\n",
       "    </tr>\n",
       "    <tr>\n",
       "      <td>11</td>\n",
       "      <td>0.22</td>\n",
       "      <td>od280/od315_of_diluted_wines</td>\n",
       "    </tr>\n",
       "    <tr>\n",
       "      <td>5</td>\n",
       "      <td>0.02</td>\n",
       "      <td>total_phenols</td>\n",
       "    </tr>\n",
       "    <tr>\n",
       "      <td>9</td>\n",
       "      <td>0.02</td>\n",
       "      <td>color_intensity</td>\n",
       "    </tr>\n",
       "    <tr>\n",
       "      <td>12</td>\n",
       "      <td>0.02</td>\n",
       "      <td>proline</td>\n",
       "    </tr>\n",
       "    <tr>\n",
       "      <td>0</td>\n",
       "      <td>0.00</td>\n",
       "      <td>alcohol</td>\n",
       "    </tr>\n",
       "    <tr>\n",
       "      <td>1</td>\n",
       "      <td>0.00</td>\n",
       "      <td>malic_acid</td>\n",
       "    </tr>\n",
       "    <tr>\n",
       "      <td>2</td>\n",
       "      <td>0.00</td>\n",
       "      <td>ash</td>\n",
       "    </tr>\n",
       "    <tr>\n",
       "      <td>3</td>\n",
       "      <td>0.00</td>\n",
       "      <td>alcalinity_of_ash</td>\n",
       "    </tr>\n",
       "    <tr>\n",
       "      <td>4</td>\n",
       "      <td>0.00</td>\n",
       "      <td>magnesium</td>\n",
       "    </tr>\n",
       "    <tr>\n",
       "      <td>7</td>\n",
       "      <td>0.00</td>\n",
       "      <td>nonflavanoid_phenols</td>\n",
       "    </tr>\n",
       "    <tr>\n",
       "      <td>8</td>\n",
       "      <td>0.00</td>\n",
       "      <td>proanthocyanins</td>\n",
       "    </tr>\n",
       "  </tbody>\n",
       "</table>\n",
       "</div>"
      ],
      "text/plain": [
       "    importance                       feature\n",
       "6         0.48                    flavanoids\n",
       "10        0.24                           hue\n",
       "11        0.22  od280/od315_of_diluted_wines\n",
       "5         0.02                 total_phenols\n",
       "9         0.02               color_intensity\n",
       "12        0.02                       proline\n",
       "0         0.00                       alcohol\n",
       "1         0.00                    malic_acid\n",
       "2         0.00                           ash\n",
       "3         0.00             alcalinity_of_ash\n",
       "4         0.00                     magnesium\n",
       "7         0.00          nonflavanoid_phenols\n",
       "8         0.00               proanthocyanins"
      ]
     },
     "execution_count": 131,
     "metadata": {},
     "output_type": "execute_result"
    }
   ],
   "source": [
    "a_df_sorted = a_df.sort_values(by=['importance'], ascending=False)\n",
    "a_df_sorted"
   ]
  },
  {
   "cell_type": "code",
   "execution_count": 132,
   "metadata": {},
   "outputs": [],
   "source": [
    "import matplotlib.pyplot as plt\n",
    "%matplotlib inline\n",
    "plt.style.use('fivethirtyeight')\n",
    "plt.rcParams['figure.figsize'] = (9, 8)"
   ]
  },
  {
   "cell_type": "code",
   "execution_count": 137,
   "metadata": {},
   "outputs": [
    {
     "data": {
      "image/png": "[encoded data removed]",
      "text/plain": [
       "<Figure size 648x576 with 1 Axes>"
      ]
     },
     "metadata": {},
     "output_type": "display_data"
    }
   ],
   "source": [
    "plt.barh(a_df_sorted.feature, a_df_sorted.importance)\n",
    "plt.gca().invert_yaxis();"
   ]
  },
  {
   "cell_type": "code",
   "execution_count": null,
   "metadata": {},
   "outputs": [],
   "source": []
  }
 ],
 "metadata": {
  "kernelspec": {
   "display_name": "Python 3",
   "language": "python",
   "name": "python3"
  },
  "language_info": {
   "codemirror_mode": {
    "name": "ipython",
    "version": 3
   },
   "file_extension": ".py",
   "mimetype": "text/x-python",
   "name": "python",
   "nbconvert_exporter": "python",
   "pygments_lexer": "ipython3",
   "version": "3.7.4"
  }
 },
 "nbformat": 4,
 "nbformat_minor": 2
}
